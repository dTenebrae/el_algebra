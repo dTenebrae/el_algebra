{
 "cells": [
  {
   "cell_type": "code",
   "execution_count": 1,
   "metadata": {},
   "outputs": [],
   "source": [
    "import numpy as np\n",
    "import matplotlib.pyplot as plt\n",
    "from collections import Counter\n",
    "from itertools import combinations, permutations\n",
    "%matplotlib inline\n",
    "import warnings\n",
    "warnings.simplefilter('ignore')"
   ]
  },
  {
   "cell_type": "markdown",
   "metadata": {},
   "source": [
    "1.  Напишите код, моделирующий выпадение поля в рулетке (с учетом поля зеро)"
   ]
  },
  {
   "cell_type": "code",
   "execution_count": 2,
   "metadata": {},
   "outputs": [
    {
     "name": "stdout",
     "output_type": "stream",
     "text": [
      "(16, 'red')\n",
      "(6, 'black')\n",
      "(28, 'black')\n",
      "(23, 'red')\n",
      "(22, 'black')\n"
     ]
    }
   ],
   "source": [
    "wheel = np.array([0,32,15,19,4,21,2,25,17,34,6,27,13,36,11,30,8,23,10,5,24,16,33,1,20,14,31,9,22,18,29,7,28,12,35,3,26])\n",
    "def roulette (n_spins=1):\n",
    "    for i in range(n_spins):\n",
    "        cell = np.random.choice(wheel)\n",
    "        if cell == 0:\n",
    "            yield (cell, 'green')\n",
    "        else:\n",
    "            yield (cell, 'black') if np.where(wheel == cell)[0][0] % 2 == 0 else (cell, 'red')\n",
    "\n",
    "for item in roulette(5):\n",
    "    print(item)"
   ]
  },
  {
   "cell_type": "markdown",
   "metadata": {},
   "source": [
    "2.\n",
    "- Напишите код, проверяющий любую из теорем сложения или умножения вероятности на примере рулетки или подбрасывания монетки."
   ]
  },
  {
   "cell_type": "code",
   "execution_count": 3,
   "metadata": {},
   "outputs": [
    {
     "name": "stdout",
     "output_type": "stream",
     "text": [
      "Sum of 7 probabilities calculated: 0.1853; ref 0.1891891891891892\n"
     ]
    }
   ],
   "source": [
    "def prob_freq(n_try=500, sum_check=3, verbose=True):\n",
    "    l = []\n",
    "    prob_sum = 0\n",
    "    \n",
    "    for item in roulette(n_try):\n",
    "        l.append(item[0])\n",
    "    cnt = Counter(l)\n",
    "    \n",
    "    if verbose:\n",
    "        for num in wheel:\n",
    "            print(f'Cell:{num:>3} have freq: {cnt[num]:>3}; prob calc: {cnt[num] / n_try:.3f}; prob ref: {1/len(wheel):.3f}; diff: {abs(1/len(wheel) - cnt[num] / n_try):.3f}')\n",
    "            \n",
    "    for _ in range(sum_check):\n",
    "        _digit = np.random.choice(wheel)\n",
    "        prob_sum += cnt[_digit] / n_try\n",
    "    print(f'Sum of {sum_check} probabilities calculated: {prob_sum}; ref {sum_check/len(wheel)}')\n",
    "\n",
    "    \n",
    "prob_freq(10000, 7, False)\n"
   ]
  },
  {
   "cell_type": "markdown",
   "metadata": {},
   "source": [
    "- Сгенерируйте десять выборок случайных чисел х0, …, х9 и постройте гистограмму распределения случайной суммы х0+х1+ …+ х9 "
   ]
  },
  {
   "cell_type": "code",
   "execution_count": 4,
   "metadata": {},
   "outputs": [
    {
     "data": {
      "image/png": "[encoded data removed]",
      "text/plain": [
       "<Figure size 432x288 with 1 Axes>"
      ]
     },
     "metadata": {
      "needs_background": "light"
     },
     "output_type": "display_data"
    }
   ],
   "source": [
    "x = np.random.rand(10, 10)\n",
    "sum_x = [sum(item) for item in x]\n",
    "plt.hist(sum_x, bins=10)\n",
    "plt.show()"
   ]
  },
  {
   "cell_type": "markdown",
   "metadata": {},
   "source": [
    "3. \n",
    "- Дополните код Монте-Карло последовательности независимых испытаний расчетом соответствующих вероятностей (через биномиальное распределение) и сравните результаты.  \n",
    "\n",
    "$$ P_n(k) = C_k^n\\frac{1}{2^n} $$  \n",
    "\n",
    "$$ C_k^n = \\frac{n!}{k!(n!-k!)} $$"
   ]
  },
  {
   "cell_type": "code",
   "execution_count": 5,
   "metadata": {},
   "outputs": [
    {
     "name": "stdout",
     "output_type": "stream",
     "text": [
      "0.375\n",
      "386 1000 0.386\n"
     ]
    }
   ],
   "source": [
    "def bin_prob(n, k):\n",
    "    c_k = np.math.factorial(n)/(np.math.factorial(k)*(np.math.factorial(n - k)))\n",
    "    return c_k * (1 / (2 ** n))\n",
    "    \n",
    "\n",
    "k, n = 0, 1000\n",
    "a = np.random.randint(0, 2, n)\n",
    "b = np.random.randint(0, 2, n)\n",
    "c = np.random.randint(0, 2, n)\n",
    "d = np.random.randint(0, 2, n)\n",
    "x = a + b + c + d\n",
    "for i in range(0, n):\n",
    "    if x[i] == 2:\n",
    "        k += 1\n",
    "\n",
    "print(bin_prob(4, 2))\n",
    "print(k, n, k/n)"
   ]
  },
  {
   "cell_type": "markdown",
   "metadata": {},
   "source": [
    "\n",
    "- Повторите расчеты биномиальных коэффициентов и вероятностей k успехов в последовательности из n независимых испытаний, взяв другие значения n и k."
   ]
  },
  {
   "cell_type": "code",
   "execution_count": 6,
   "metadata": {},
   "outputs": [
    {
     "name": "stdout",
     "output_type": "stream",
     "text": [
      "n=  7 k=1 prob=0.055\n",
      "n=  7 k=3 prob=0.273\n",
      "n=  7 k=5 prob=0.164\n",
      "n=  7 k=7 prob=0.008\n",
      "n= 10 k=1 prob=0.010\n",
      "n= 10 k=3 prob=0.117\n",
      "n= 10 k=5 prob=0.246\n",
      "n= 10 k=7 prob=0.117\n",
      "n= 15 k=1 prob=0.000\n",
      "n= 15 k=3 prob=0.014\n",
      "n= 15 k=5 prob=0.092\n",
      "n= 15 k=7 prob=0.196\n",
      "n= 20 k=1 prob=0.000\n",
      "n= 20 k=3 prob=0.001\n",
      "n= 20 k=5 prob=0.015\n",
      "n= 20 k=7 prob=0.074\n"
     ]
    }
   ],
   "source": [
    "n_arr = [7, 10, 15, 20]\n",
    "k_arr = [1, 3, 5, 7]\n",
    "\n",
    "for i in n_arr:\n",
    "    for j in k_arr:\n",
    "        print(f'n={i:>3} k={j} prob={bin_prob(i, j):.3f}')"
   ]
  },
  {
   "cell_type": "markdown",
   "metadata": {},
   "source": [
    "4. Из урока по комбинаторике повторите расчеты, сгенерировав возможные варианты перестановок для других значений n и k"
   ]
  },
  {
   "cell_type": "code",
   "execution_count": 7,
   "metadata": {},
   "outputs": [
    {
     "data": {
      "text/plain": [
       "840"
      ]
     },
     "execution_count": 7,
     "metadata": {},
     "output_type": "execute_result"
    }
   ],
   "source": [
    "perm_list = []\n",
    "for p in permutations(\"0123456\",4):\n",
    "    perm_list.append(''.join(str(x) for x in p))\n",
    "len(perm_list)"
   ]
  },
  {
   "cell_type": "code",
   "execution_count": 8,
   "metadata": {},
   "outputs": [
    {
     "data": {
      "text/plain": [
       "35"
      ]
     },
     "execution_count": 8,
     "metadata": {},
     "output_type": "execute_result"
    }
   ],
   "source": [
    "comb_list = []\n",
    "for p in combinations(\"0123456\",4):\n",
    "    comb_list.append(''.join(p))\n",
    "len(comb_list)"
   ]
  },
  {
   "cell_type": "markdown",
   "metadata": {},
   "source": [
    "5. Дополните код расчетом коэффициента корреляции x и y по формуле  \n",
    "\n",
    "$$ R = \\frac{\\sum(x_i-x_m)(y_i-y_m)}{\\sqrt{\\sum(x_i-x_m)^2\\sum(y_i-y_m)^2}} $$"
   ]
  },
  {
   "cell_type": "markdown",
   "metadata": {},
   "source": [
    "$$ y = ax+b $$\n",
    "\n",
    "$$ a = \\frac{\\sum x_i\\sum y_i-n\\sum x_iy_i}{(\\sum x_i)^2-n\\sum x_i^2} $$  \n",
    "$$ b = \\frac{\\sum y_i-a\\sum x_i}{n} $$"
   ]
  },
  {
   "cell_type": "code",
   "execution_count": 24,
   "metadata": {},
   "outputs": [
    {
     "name": "stdout",
     "output_type": "stream",
     "text": [
      "0.9939619654797421\n"
     ]
    },
    {
     "data": {
      "image/png": "[encoded data removed]",
      "text/plain": [
       "<Figure size 432x288 with 1 Axes>"
      ]
     },
     "metadata": {
      "needs_background": "light"
     },
     "output_type": "display_data"
    }
   ],
   "source": [
    "n = 100\n",
    "r = 0.9\n",
    "x = np.random.rand(n)\n",
    "y = r*x + (1 - r)*np.random.rand(n)\n",
    "plt.plot(x, y, 'o')\n",
    "plt.xlabel('x')\n",
    "plt.ylabel('y')\n",
    "plt.grid(True)\n",
    "\n",
    "a = (np.sum(x)*np.sum(y) - n*np.sum(x*y))/(np.sum(x)*np.sum(x) - n*np.sum(x*x))\n",
    "b = (np.sum(y) - a*np.sum(x))/n\n",
    "\n",
    "x_m = np.sum(x)/len(x)\n",
    "y_m = np.sum(y)/len(y)\n",
    "x_x = x - x_m\n",
    "y_y = y - y_m\n",
    "\n",
    "corr = np.sum(x_x*y_y)/np.sqrt(np.sum(x_x**2)*(np.sum(y_y**2)))\n",
    "print(corr)\n",
    "\n",
    "plt.plot([0, 1], [b, a + b])\n",
    "plt.show()"
   ]
  },
  {
   "cell_type": "code",
   "execution_count": null,
   "metadata": {},
   "outputs": [],
   "source": []
  },
  {
   "cell_type": "code",
   "execution_count": null,
   "metadata": {},
   "outputs": [],
   "source": []
  },
  {
   "cell_type": "code",
   "execution_count": null,
   "metadata": {},
   "outputs": [],
   "source": []
  }
 ],
 "metadata": {
  "kernelspec": {
   "display_name": "Python 3",
   "language": "python",
   "name": "python3"
  },
  "language_info": {
   "codemirror_mode": {
    "name": "ipython",
    "version": 3
   },
   "file_extension": ".py",
   "mimetype": "text/x-python",
   "name": "python",
   "nbconvert_exporter": "python",
   "pygments_lexer": "ipython3",
   "version": "3.8.5"
  },
  "varInspector": {
   "cols": {
    "lenName": 16,
    "lenType": 16,
    "lenVar": 40
   },
   "kernels_config": {
    "python": {
     "delete_cmd_postfix": "",
     "delete_cmd_prefix": "del ",
     "library": "var_list.py",
     "varRefreshCmd": "print(var_dic_list())"
    },
    "r": {
     "delete_cmd_postfix": ") ",
     "delete_cmd_prefix": "rm(",
     "library": "var_list.r",
     "varRefreshCmd": "cat(var_dic_list()) "
    }
   },
   "types_to_exclude": [
    "module",
    "function",
    "builtin_function_or_method",
    "instance",
    "_Feature"
   ],
   "window_display": false
  }
 },
 "nbformat": 4,
 "nbformat_minor": 4
}

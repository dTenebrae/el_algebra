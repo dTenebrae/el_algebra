{
 "cells": [
  {
   "cell_type": "code",
   "execution_count": 161,
   "metadata": {},
   "outputs": [],
   "source": [
    "import numpy as np\n",
    "import matplotlib.pyplot as plt\n",
    "import itertools\n",
    "from mpl_toolkits.mplot3d import Axes3D\n",
    "%matplotlib inline"
   ]
  },
  {
   "cell_type": "markdown",
   "metadata": {},
   "source": [
    "1. Задание (теорема сложения)\n",
    "\n",
    "Найти вероятность выпадения 2 или 5 очков при подбрасывании игральной кости, на гранях которой имеются соответственно 1,2,3,4,5 и 6 очков.\n"
   ]
  },
  {
   "cell_type": "markdown",
   "metadata": {},
   "source": [
    "$P(2) = \\frac{1}{6}$  \n",
    "$P(5) = \\frac{1}{6}$  \n",
    "$P(2)+P(5) = \\frac{2}{6} = \\frac{1}{3}$"
   ]
  },
  {
   "cell_type": "code",
   "execution_count": 26,
   "metadata": {},
   "outputs": [
    {
     "data": {
      "text/plain": [
       "0.33473"
      ]
     },
     "execution_count": 26,
     "metadata": {},
     "output_type": "execute_result"
    }
   ],
   "source": [
    "a = np.random.randint(1, 7, 100000)\n",
    "len(a[(a == 2) | (a == 5)]) / len(a)"
   ]
  },
  {
   "cell_type": "markdown",
   "metadata": {},
   "source": [
    "2. Задание (теорема умножения)\n",
    "\n",
    "Найти вероятность того, что при двух подбрасываниях той же самой игральной кости сначала выпадет 2, а затем 5.\n"
   ]
  },
  {
   "cell_type": "markdown",
   "metadata": {},
   "source": [
    "$P(2) = \\frac{1}{6}$  \n",
    "$P(5) = \\frac{1}{6}$  \n",
    "$ P(2)\\cdot P(5) = \\frac{1}{36} $"
   ]
  },
  {
   "cell_type": "code",
   "execution_count": 71,
   "metadata": {},
   "outputs": [
    {
     "data": {
      "text/plain": [
       "0.02716"
      ]
     },
     "execution_count": 71,
     "metadata": {},
     "output_type": "execute_result"
    }
   ],
   "source": [
    "b = np.random.randint(1, 7, 100000)\n",
    "# Будет ошибка в случае, если 2ка последняя. Можно сделать проверку на последний элемент массива, \n",
    "# но для эксперимента хватит и так\n",
    "sum(b[np.where(b == 2)[0] + 1] == 5) / len(b)"
   ]
  },
  {
   "cell_type": "markdown",
   "metadata": {},
   "source": [
    "3. Задание \n",
    "\n",
    "Найти вероятность выпадения 2 и 5 очков при двух подбрасываниях той же самой игральной игральной кости.\n"
   ]
  },
  {
   "cell_type": "markdown",
   "metadata": {},
   "source": [
    "В данном случае количество положительных исходов увеличилось вдвое, так как нас устраивают варианты 5 после 2 и 2 после 5\n",
    "\n",
    "$P(2) \\cdot P(5)+P(5) \\cdot P(2) = \\frac{1}{36} + \\frac{1}{36} = \\frac{1}{18} $"
   ]
  },
  {
   "cell_type": "code",
   "execution_count": 130,
   "metadata": {},
   "outputs": [
    {
     "name": "stdout",
     "output_type": "stream",
     "text": [
      "0.027 + 0.0259\n"
     ]
    }
   ],
   "source": [
    "c = np.random.randint(1, 7, 10000)\n",
    "# Будет ошибка в случае, если 2ка/5ка последняя. Можно сделать проверку на последний элемент массива, \n",
    "# но для эксперимента хватит и так\n",
    "x = sum(c[np.where(c == 2)[0] + 1] == 5) / len(c)\n",
    "y = sum(c[np.where(c == 5)[0] + 1] == 2) / len(c)\n",
    "print(x,'+', y)"
   ]
  },
  {
   "cell_type": "markdown",
   "metadata": {},
   "source": [
    "4. Задание  (Геометрическая вероятность +интервалы)\n",
    "\n",
    "На отрезке AB длиной 20 см наугад отметили точку C. Какова вероятность, что она находится на расстоянии не более 9 см от точки А и не более 15 см от точки В?\n"
   ]
  },
  {
   "cell_type": "markdown",
   "metadata": {},
   "source": [
    "Примем за данное, что попадание в любой участок отрезка равновероятное событие. Тогда, длина отрезка, который отстоит от точки А на 9 ед и от точки В на 15 ед, составит 4 ед. А значит, вероятность попадания в него будет  \n",
    "\n",
    "$\\frac{4}{20} = \\frac{1}{5}$"
   ]
  },
  {
   "cell_type": "code",
   "execution_count": 153,
   "metadata": {},
   "outputs": [
    {
     "data": {
      "image/png": "[encoded data removed]",
      "text/plain": [
       "<Figure size 720x72 with 1 Axes>"
      ]
     },
     "metadata": {
      "needs_background": "light"
     },
     "output_type": "display_data"
    }
   ],
   "source": [
    "plt.figure(figsize=(10,1))\n",
    "plt.plot([0,9], [1,1], '|-', color='blue')\n",
    "plt.plot([20, 5], [1,1], '|-', color='green')\n",
    "plt.plot([5,9], [1,1], '|-', color='red')\n",
    "\n",
    "\n",
    "plt.axis('off')\n",
    "plt.show()"
   ]
  },
  {
   "cell_type": "markdown",
   "metadata": {},
   "source": [
    "5. Задание. \n",
    "\n",
    "Телефонный номер состоит из 7 цифр. Какова вероятность, что это номер 8882227?\n"
   ]
  },
  {
   "cell_type": "markdown",
   "metadata": {},
   "source": [
    "Предположим, что дана 10-чная система счисления. Тогда, количество цифр, возможных в каждом знаке номера будет равно 10. Так как предполагается, что это телефонный номер, то порядок следования цифр имеет значение. Отсюда,  \n",
    "\n",
    "$$ A_n^k = \\frac{n!}{(n-k)!} $$  \n",
    "\n",
    "$ A_{10}^7 = \\frac{10!}{3!} = 10 \\cdot 9 \\cdot 8 \\cdot 7 \\cdot 6 \\cdot 5 \\cdot 4 = 604800 $  \n",
    "\n",
    "Значит вероятность будет составлять $\\frac{1}{604800} $"
   ]
  },
  {
   "cell_type": "code",
   "execution_count": 160,
   "metadata": {},
   "outputs": [
    {
     "data": {
      "text/plain": [
       "604800"
      ]
     },
     "execution_count": 160,
     "metadata": {},
     "output_type": "execute_result"
    }
   ],
   "source": [
    "l = []\n",
    "for p in itertools.permutations(\"0123456789\",7):\n",
    "    l.append(''.join(str(x) for x in p))\n",
    "len(l)"
   ]
  },
  {
   "cell_type": "markdown",
   "metadata": {},
   "source": [
    "6. Задание. \n",
    "\n",
    "Набирая номер телефона, абонент забыл 2 последние цифры, и, помня только то, что эти цифры различны и среди них нет нуля, стал набирать их наудачу. Сколько вариантов ему надо перебрать, чтобы наверняка найти нужный номер? Какова вероятность того, что он угадает номер с первого раза?\n"
   ]
  },
  {
   "cell_type": "markdown",
   "metadata": {},
   "source": [
    "Формула для вычисления перестановок (порядок имеет значение) без повторений чисел:  \n",
    "\n",
    "$$ A_n^k = \\frac{n!}{(n-k)!} $$  \n",
    "\n",
    "В нашем случае количество чисел равно 9 (без 0), нужно найти все комбинации из 2х чисел  \n",
    "\n",
    "$ A_9^2 = \\frac{9!}{7!} = 8 \\cdot 9 = 72 $  \n",
    "\n",
    "Вероятность найти с 1го раза - $\\frac{1}{72}$"
   ]
  },
  {
   "cell_type": "code",
   "execution_count": 158,
   "metadata": {},
   "outputs": [
    {
     "name": "stdout",
     "output_type": "stream",
     "text": [
      "['12', '13', '14', '15', '16', '17', '18', '19', '21', '23', '24', '25', '26', '27', '28', '29', '31', '32', '34', '35', '36', '37', '38', '39', '41', '42', '43', '45', '46', '47', '48', '49', '51', '52', '53', '54', '56', '57', '58', '59', '61', '62', '63', '64', '65', '67', '68', '69', '71', '72', '73', '74', '75', '76', '78', '79', '81', '82', '83', '84', '85', '86', '87', '89', '91', '92', '93', '94', '95', '96', '97', '98']\n"
     ]
    },
    {
     "data": {
      "text/plain": [
       "72"
      ]
     },
     "execution_count": 158,
     "metadata": {},
     "output_type": "execute_result"
    }
   ],
   "source": [
    "l = []\n",
    "for p in itertools.permutations(\"123456789\",2):\n",
    "    l.append(''.join(str(x) for x in p))\n",
    "print(l)\n",
    "len(l)"
   ]
  },
  {
   "cell_type": "markdown",
   "metadata": {},
   "source": [
    "7. Задание** (необязательное) \n",
    "\n",
    "Чёрный куб покрасили снаружи белой краской, затем разрезали на 27 одинаковых маленьких кубиков и как попало сложили из них большой куб. С какой вероятностью все грани этого куба будут белыми?\n"
   ]
  },
  {
   "cell_type": "markdown",
   "metadata": {},
   "source": [
    "Для того, чтобы получилось 27 одинаковых кубиков нужно, чтобы каждая грань была разделена на 9 равных частей. \n",
    "\n",
    "Разобьем получившиеся кубики по местам их расположения:  \n",
    "\n",
    "- 8 штук расположены на углах куба, 3 грани будут белыми, 3 черными\n",
    "- 12 штук будут расположены между ними, на ребрах куба, 2 грани белые, 4 черные  \n",
    "- 6 штук расположены по центру каждой грани, 1 грань белая, 5 черных  \n",
    "- 1 кубик в центре большого куба, 6 черных граней\n",
    "\n",
    "Сначала узнаем общее количество возможных комбинаций. \n",
    "\n",
    "Очевидно, что количество мест для кубиков - 27, соответственно, при единственном возможном положении кубика, количество перестановок составило бы 27!  \n",
    "\n",
    "Но, каждый кубик може быть повернут 24-я различными способами, то есть у нас получается 27 раз по 24 варианта или $24^{27}$  \n",
    "\n",
    "Итого, общее количество комбинаций - $ 27! \\cdot 24^{27} $  \n",
    "\n",
    "Теперь посчитаем количество устраивающих нас комбинаций:  \n",
    "\n",
    "- Черный кубик должен находиться строго в центре, повернут может быть любым образом $\\Rightarrow 1! \\cdot 1\\cdot 24 = 24$  \n",
    "- Для кубиков с одной белой гранью возможно 6 размещений, каждый кубик может быть повернут 4-я способами $\\Rightarrow 6! \\cdot 4^6 $  \n",
    "- Для кубиков с двумя белыми гранями возможно 12 размещений, каждый кубик может быть повернут 2-я способами $\\Rightarrow 12! \\cdot 2^{12} $  \n",
    "- Для кубиков с тремя белыми гранями возможно 8 размещений, каждый кубик может быть повернут 3-я способами $\\Rightarrow 8! \\cdot 3^8 $  \n",
    "\n",
    "Следовательно, вероятность того, что все грани куба будут белыми  \n",
    "\n",
    "$$ P = \\frac{24 \\cdot 6! \\cdot 4^6 \\cdot 12! \\cdot 2^{12} \\cdot 8! \\cdot 3^8}{27! \\cdot 24^{27}} $$"
   ]
  },
  {
   "cell_type": "code",
   "execution_count": 188,
   "metadata": {},
   "outputs": [
    {
     "data": {
      "text/plain": [
       "1.8298051356415021e-37"
      ]
     },
     "execution_count": 188,
     "metadata": {},
     "output_type": "execute_result"
    }
   ],
   "source": [
    "a = 24**27\n",
    "b = np.math.factorial(27)\n",
    "c = 24*np.math.factorial(6)*(4**6)*(np.math.factorial(12))*(2**12)*(np.math.factorial(8))*3**8\n",
    "c / (a * b)"
   ]
  },
  {
   "cell_type": "code",
   "execution_count": 182,
   "metadata": {},
   "outputs": [
    {
     "data": {
      "image/png": "[encoded data removed]",
      "text/plain": [
       "<Figure size 360x360 with 1 Axes>"
      ]
     },
     "metadata": {
      "needs_background": "light"
     },
     "output_type": "display_data"
    }
   ],
   "source": [
    "x, y, z = np.indices((8, 8, 8))\n",
    "cube2 = (x >= 5) & (y >= 5) & (z >= 5)\n",
    "voxels = cube2\n",
    "colors = np.empty(voxels.shape, dtype=object)\n",
    "colors[cube2] = 'green'\n",
    "\n",
    "fig = plt.figure(figsize = (5,5))\n",
    "ax = fig.gca(projection='3d')\n",
    "ax.voxels(voxels, facecolors=colors, edgecolor='k')\n",
    "plt.axis('off')\n",
    "plt.show()"
   ]
  }
 ],
 "metadata": {
  "kernelspec": {
   "display_name": "Python 3",
   "language": "python",
   "name": "python3"
  },
  "language_info": {
   "codemirror_mode": {
    "name": "ipython",
    "version": 3
   },
   "file_extension": ".py",
   "mimetype": "text/x-python",
   "name": "python",
   "nbconvert_exporter": "python",
   "pygments_lexer": "ipython3",
   "version": "3.8.5"
  },
  "varInspector": {
   "cols": {
    "lenName": 16,
    "lenType": 16,
    "lenVar": 40
   },
   "kernels_config": {
    "python": {
     "delete_cmd_postfix": "",
     "delete_cmd_prefix": "del ",
     "library": "var_list.py",
     "varRefreshCmd": "print(var_dic_list())"
    },
    "r": {
     "delete_cmd_postfix": ") ",
     "delete_cmd_prefix": "rm(",
     "library": "var_list.r",
     "varRefreshCmd": "cat(var_dic_list()) "
    }
   },
   "types_to_exclude": [
    "module",
    "function",
    "builtin_function_or_method",
    "instance",
    "_Feature"
   ],
   "window_display": false
  }
 },
 "nbformat": 4,
 "nbformat_minor": 4
}

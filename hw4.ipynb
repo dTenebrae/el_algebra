{
 "cells": [
  {
   "cell_type": "code",
   "execution_count": 1,
   "metadata": {},
   "outputs": [],
   "source": [
    "import numpy as np\n",
    "import matplotlib.pyplot as plt\n",
    "%matplotlib inline"
   ]
  },
  {
   "cell_type": "markdown",
   "metadata": {},
   "source": [
    "1. Задание (на листочке)  \n",
    "\n",
    "Решите уравнение  \n",
    "$ \\frac{sin(x)}{x} = 0 $  \n",
    "\n",
    "$ x \\ne 0, x \\in (-\\infty;0)\\wedge(0;+\\infty) $  \n",
    "$ \\sin(x) = 0, \\forall x = n\\pi, n \\in \\mathbb{Z} $  \n",
    "\n",
    "Ответ: $ x = n\\cdot\\pi, n \\in \\mathbb{Z} \\wedge n \\ne 0 $\n",
    "___"
   ]
  },
  {
   "cell_type": "markdown",
   "metadata": {},
   "source": [
    "2. Задание (на листочке)  \n",
    "\n",
    "Даны три прямые:  \n",
    "$ y=k_1 \\cdot x+b_1 $  \n",
    "$ y=k_2 \\cdot x+b_2 $  \n",
    "$ y=k_3 \\cdot x+b_3 $  \n",
    "\n",
    "Как узнать, пересекаются они в одной точке или нет?  \n",
    "\n",
    "Пусть имеется точка $M_0(x_0, y_0)$  \n",
    "\n",
    "Тогда, если прямая проходит через эту точку, то для первой прямой справедливо\n",
    "\n",
    "$ y-y_0 = k_1(x-x_0) $  \n",
    "\n",
    "Аналогично для остальных  \n",
    "$ y-y_0 = k_2(x-x_0) $  \n",
    "$ y-y_0 = k_3(x-x_0) $  \n",
    "\n",
    "Соответственно, для того, чтобы эти прямые пересекались в точке $M_0$, нужно чтобы система уравнений  \n",
    "\n",
    "$\\begin{cases}\n",
    "y-y_0 = k_1(x-x_0) \\\\\n",
    "y-y_0 = k_2(x-x_0) \\\\ \n",
    "y-y_0 = k_3(x-x_0) \n",
    "\\end{cases}$  \n",
    "\n",
    "решалась\n",
    "___"
   ]
  },
  {
   "cell_type": "markdown",
   "metadata": {},
   "source": [
    "3. Задание (в программе или на листочке)  \n",
    "\n",
    "На листе тетради «в линейку» (расстояние между линиями равно а) лежит игла (длиной b). Координаты нижней точки иглы (х,у), игла лежит под углом $ \\alpha $. Пересекает ли игла линию или нет?\n"
   ]
  },
  {
   "cell_type": "markdown",
   "metadata": {},
   "source": [
    "Обозначим нижнюю точку иглы как $N_0$ и пусть ее координаты будут равны $(x_0, y_0)$  \n",
    "Найдем координаты верхней точки иглы $N_1(x_1,y_1)$:  \n",
    "\n",
    "$ x_1 = x_0+\\cos{\\alpha}\\cdot b $  \n",
    "$ y_1 = y_0+\\sin{\\alpha}\\cdot b $  \n",
    "\n",
    "Пусть общее уравнение линии тетради $ Ax+By+C = 0 $  \n",
    "Она делит плоскость тетрадного листа на 2 полуплоскости:  \n",
    "$ Ax+By+C > 0 $  \n",
    "$ Ax+By+C < 0 $  \n",
    "\n",
    "Тогда, для того, чтобы игла пересекала линию, необходимо, чтобы ее концы оказались в разных полуплоскостях. Это несложно проверить умножив:  \n",
    "\n",
    "$ (Ax_0+By_0+C)\\cdot(Ax_1+By_1+C) $  \n",
    "\n",
    "Если это произведение окажется меньше 0, то игла пересекает линию, больше - не пересекает. Если равно 0 - один из концов иглы лежит на линии, что нас также устраивает  \n",
    "\n",
    "$ (Ax_0+By_0+C)\\cdot(A\\cdot (x_0+\\cos{\\alpha}\\cdot b)+B\\cdot (y_0+\\sin{\\alpha}\\cdot b)+C) \\leqslant 0 $  \n",
    "___"
   ]
  },
  {
   "cell_type": "markdown",
   "metadata": {},
   "source": [
    "4. Задание** (задание делать по желанию)\n",
    "\n",
    "Решите аналитически и потом численно (в программе) уравнение, зависящее от параметра а: \n",
    "sin(а*x)=0\n",
    "при условии: 0.01<a<0.02, 100<х<500.\n",
    "Т.е. надо найти решение х как функцию параметра а - построить график x=x (а).\n",
    "Если численным методом не получается найти все ветви решения x(а), то отыщите хотя бы одну\n",
    "___"
   ]
  },
  {
   "cell_type": "markdown",
   "metadata": {},
   "source": [
    "5. Задание  \n",
    "\n",
    "Найти угол $\\alpha$ между прямыми  \n",
    "$ 4y-3x+12=0 $  \n",
    "$ 7y+x-14=0 $  \n",
    "\n",
    "$ tg{\\alpha} = \\frac{A_2B_1 - A_1B_2}{A_1A_2+B_1B_2} $  \n",
    "\n",
    "$ \\begin{array}{cc}\n",
    "A_1 = -3 & B_1 = 4 \\\\\n",
    "A_2 = 1 & B_2 = 7\n",
    "\\end{array}$  \n",
    "\n",
    "$ tg{\\alpha} = \\frac{1\\cdot 4 - (-3)\\cdot 7}{(-3)\\cdot 1+4 \\cdot 7} = \\frac{25}{25} = 1 \\Rightarrow \\alpha = 45^{\\circ} $  "
   ]
  },
  {
   "cell_type": "code",
   "execution_count": 7,
   "metadata": {},
   "outputs": [
    {
     "data": {
      "image/png": "[encoded data removed]",
      "text/plain": [
       "<Figure size 432x288 with 1 Axes>"
      ]
     },
     "metadata": {
      "needs_background": "light"
     },
     "output_type": "display_data"
    }
   ],
   "source": [
    "x = np.linspace(-10, 10, 1000)\n",
    "y1 = (3*x - 12) / 4\n",
    "y2 = (14 - x) / 7\n",
    "plt.plot(x, y1, lw=1, color='red',label='y1 = (3*x - 12) / 4')\n",
    "plt.plot(x, y2, lw=1, color='blue',label='y2 = (14 - x) / 7')\n",
    "plt.legend(loc='best')\n",
    "plt.show()"
   ]
  },
  {
   "cell_type": "markdown",
   "metadata": {},
   "source": [
    "___"
   ]
  },
  {
   "cell_type": "markdown",
   "metadata": {},
   "source": [
    "Найти угол $\\alpha$ между прямыми  \n",
    "$ x = \\sqrt{2} $  \n",
    "$ x = -\\sqrt{3} $  \n",
    "\n",
    "Угол $\\alpha = 0$, так как обе прямые параллельны оси y\n",
    "___"
   ]
  },
  {
   "cell_type": "markdown",
   "metadata": {},
   "source": [
    "6. Задание  \n",
    "\n",
    "Выяснить тип кривых второго порядка, порожденных следующими уравнениями  "
   ]
  },
  {
   "cell_type": "markdown",
   "metadata": {},
   "source": [
    "$ y^2-2x-2y-5 = 0 $  \n",
    "\n",
    "$ y^2-2y = y^2-2y+1-1 = (y-1)^2-1 $  \n",
    "$ (y-1)^2-2x-5-1 = 0 $  \n",
    "\n",
    "$ \\mathbf{(y-1)^2 = 2(x+3)} $  \n",
    "\n",
    "После приведения уравнения к каноническому виду получаем, что это парабола, с центром в точке (-3,1)  "
   ]
  },
  {
   "cell_type": "code",
   "execution_count": 23,
   "metadata": {},
   "outputs": [
    {
     "data": {
      "text/plain": [
       "<matplotlib.lines.Line2D at 0x7f69cae7b2b0>"
      ]
     },
     "execution_count": 23,
     "metadata": {},
     "output_type": "execute_result"
    },
    {
     "data": {
      "image/png": "[encoded data removed]",
      "text/plain": [
       "<Figure size 432x432 with 1 Axes>"
      ]
     },
     "metadata": {
      "needs_background": "light"
     },
     "output_type": "display_data"
    }
   ],
   "source": [
    "plt.figure(figsize=(6,6))\n",
    "y = np.linspace(-3, 5, 1000)\n",
    "x = (y - 1) ** 2 / 2 - 3\n",
    "plt.plot(x, y, lw=1, color='red')\n",
    "plt.plot([0, -3], [0,1], ls='-.', lw=0.5, color='black')\n",
    "plt.scatter(-3, 1)\n",
    "plt.axvline(color='black', lw=.5, alpha=.5)\n",
    "plt.axhline(color='black', lw=.5, alpha=.5)"
   ]
  },
  {
   "cell_type": "markdown",
   "metadata": {},
   "source": [
    "___"
   ]
  },
  {
   "cell_type": "markdown",
   "metadata": {},
   "source": [
    "$ 3x^2+5y^2+12x-30y+42=0 $  \n",
    "\n",
    "$ 3x^2+12x = 3(x^2+4x+4-4) = 3(x+2)^2-12 $  \n",
    "$ 5y^2-30y = 5(y^2-6y+9-9) = 5(y-3)^2-45 $  \n",
    "\n",
    "$ 3(x+2)^2+5(y-3)^2-45+42-12 = 0 $  \n",
    "$ 3(x+2)^2+5(y-3)^2 = 15 $  \n",
    "\n",
    "$ \\mathbf{\\frac{(x+2)^2}{5}+\\frac{(y-3)^2}{3} = 1} $  \n",
    "\n",
    "После приведения уравнения к каноническому виду получаем, что это эллипс, с центром в точке (-2,3)  \n",
    "___"
   ]
  },
  {
   "cell_type": "markdown",
   "metadata": {},
   "source": [
    "$ 2x^2-y^2+6y-7=0 $  \n",
    "\n",
    "$ -y^2+6y = -(y^2-6y+9-9) = -(y-3)^2+9 $  \n",
    "$ 2x^2-(y-3)^2+9-7 = 0 $  \n",
    "$ 2x^2-(y-3)^2 = -2 $  \n",
    "\n",
    "$ \\mathbf{-(\\frac{x^2}{1}-\\frac{(y-3)^2}{2}) = 1} $  \n",
    "\n",
    "После приведения уравнения к каноническому виду получаем, что это гипербола, повернутая на 90 градусов, с центром в точке (0,3)  \n",
    "___"
   ]
  },
  {
   "cell_type": "markdown",
   "metadata": {},
   "source": [
    "$ 2x^2-3y^2-28x-42y-55 = 0 $  \n",
    "\n",
    "$ 2x^2-28x = 2(x^2-14x+49-49) = 2(x-7)^2-98 $  \n",
    "$ -3y^2-42y = -3(y^2+14y+49-49) = -3(y+7)^2+147 $  \n",
    "\n",
    "$ 2(x-7)^2-3(y+7)^2+147-98-55 = 0 $  \n",
    "$ 2(x-7)^2-3(y+7)^2 = 6 $  \n",
    "\n",
    "$ \\mathbf{\\frac{(x-7)^2}{3}-\\frac{(y+7)^2}{2} = 1} $  \n",
    "\n",
    "После приведения уравнения к каноническому виду получаем, что это гипербола, с центром в точке (7,-7)  \n",
    "___"
   ]
  }
 ],
 "metadata": {
  "kernelspec": {
   "display_name": "Python 3",
   "language": "python",
   "name": "python3"
  },
  "language_info": {
   "codemirror_mode": {
    "name": "ipython",
    "version": 3
   },
   "file_extension": ".py",
   "mimetype": "text/x-python",
   "name": "python",
   "nbconvert_exporter": "python",
   "pygments_lexer": "ipython3",
   "version": "3.8.5"
  },
  "varInspector": {
   "cols": {
    "lenName": 16,
    "lenType": 16,
    "lenVar": 40
   },
   "kernels_config": {
    "python": {
     "delete_cmd_postfix": "",
     "delete_cmd_prefix": "del ",
     "library": "var_list.py",
     "varRefreshCmd": "print(var_dic_list())"
    },
    "r": {
     "delete_cmd_postfix": ") ",
     "delete_cmd_prefix": "rm(",
     "library": "var_list.r",
     "varRefreshCmd": "cat(var_dic_list()) "
    }
   },
   "types_to_exclude": [
    "module",
    "function",
    "builtin_function_or_method",
    "instance",
    "_Feature"
   ],
   "window_display": false
  }
 },
 "nbformat": 4,
 "nbformat_minor": 4
}

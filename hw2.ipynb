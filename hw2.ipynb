{
 "cells": [
  {
   "cell_type": "code",
   "execution_count": 1,
   "metadata": {},
   "outputs": [],
   "source": [
    "import numpy as np\n",
    "import matplotlib.pyplot as plt\n",
    "%matplotlib inline"
   ]
  },
  {
   "cell_type": "markdown",
   "metadata": {},
   "source": [
    "1. Напишите уравнение параболы, проходящей через три точки (x,y):\n",
    "(1,2), (3,10), (5,1)\n"
   ]
  },
  {
   "cell_type": "markdown",
   "metadata": {},
   "source": [
    "Уравнение параболы можно представить в виде:  \n",
    "\n",
    "$ y = ax^2+bx+c $  \n",
    "\n",
    "Так как парабола должна проходить через данные точки, составим следующую систему уравнений  \n",
    "\n",
    "$ \\begin{cases}\n",
    "2 = a \\cdot 1^2 + b \\cdot 1 + c \\\\\n",
    "10 = a \\cdot 3^2 + b \\cdot 3 + c \\\\\n",
    "1 = a \\cdot 5^2 + b \\cdot 5 + c\n",
    "\\end{cases} \\Leftrightarrow \n",
    "\\begin{cases}\n",
    "a + b + c = 2\\\\\n",
    "9a + 3b + c = 10\\\\\n",
    "25a + 5b + c = 1\n",
    "\\end{cases}$  \n",
    "\n",
    "Выразим коэффициенты  \n",
    "\n",
    "$ a = 2-b-c $  \n",
    "$ 9 \\cdot(2-b-c)+3b+c=10 \\Leftrightarrow 18-9b-9c+3b+c=10 \\Leftrightarrow b = \\frac{-8+8c}{-6} = \\frac{4}{3}-\\frac{4}{3}c $  \n",
    "$ a = 2-\\frac{4}{3}-\\frac{4}{3}c-c = \\frac{1}{3}c+\\frac{2}{3} $  \n",
    "\n",
    "$ \\mathbf{a = (c+2)\\frac{1}{3}} $  \n",
    "$ \\mathbf{b = (1-c)\\frac{4}{3}} $  \n",
    "\n",
    "$ \\frac{25}{3}(c+2) + \\frac{20}{3}(1-c) + c = 1 $  \n",
    "$ \\frac{25}{3}c+\\frac{50}{3}+\\frac{20}{3}-\\frac{20}{3}c+\\frac{3}{3}c = 1 $  \n",
    "\n",
    "$ \\mathbf{c = -\\frac{63}{8}} \\Rightarrow \\mathbf{a =-\\frac{47}{24}; b = \\frac{71}{6}}   $  \n",
    "\n",
    "Итоговое уравнение будет иметь вид  \n",
    "\n",
    "$ \\mathbf{y = -\\frac{47}{24}x^2+\\frac{71}{6}x-\\frac{63}{8}} $"
   ]
  },
  {
   "cell_type": "code",
   "execution_count": 3,
   "metadata": {
    "code_folding": [
     0
    ]
   },
   "outputs": [
    {
     "data": {
      "image/png": "[encoded data removed]",
      "text/plain": [
       "<Figure size 432x288 with 1 Axes>"
      ]
     },
     "metadata": {
      "needs_background": "light"
     },
     "output_type": "display_data"
    }
   ],
   "source": [
    "# visualization\n",
    "x = np.linspace(-20,20,1000)\n",
    "y = -(47/24)*x**2 + (71/6)*x-63/8\n",
    "plt.plot(x, y)\n",
    "plt.scatter([1,3,5], [2,10,1])\n",
    "plt.show()"
   ]
  },
  {
   "cell_type": "markdown",
   "metadata": {},
   "source": [
    "___"
   ]
  },
  {
   "cell_type": "markdown",
   "metadata": {},
   "source": [
    "2. Известно, что свежий огурец на 99% состоит из воды. Месяц назад взвесили мешок со свежими огурцами. Получилось, что огурцов ровно 100 кг. Мешок убрали, а через месяц снова взвесили. Огурцы за это время усохли, и теперь вода составляет уже только 98% их веса. Сколько теперь (в кг) весят огурцы?"
   ]
  },
  {
   "cell_type": "markdown",
   "metadata": {},
   "source": [
    "Из условий задачи имеем следующее:  \n",
    "Изначальная масса - 100 кг  \n",
    "Воды из нее - 99 %  \n",
    "Следовательно, \"сухой массы\" - 1кг.  \n",
    "\n",
    "После усушки процент воды стал 98%, поэтому  \n",
    "\n",
    "1 кг \"сухой массы\" теперь 2 %  \n",
    "Через пропорцию получим  \n",
    "\n",
    "$ x = \\frac{1 \\cdot 100}{2} = 50 $  \n",
    "Значит в итоге огурцы стали весить 50кг"
   ]
  },
  {
   "cell_type": "markdown",
   "metadata": {},
   "source": [
    "___"
   ]
  },
  {
   "cell_type": "markdown",
   "metadata": {},
   "source": [
    "3. Определение логарифма. Решить уравнения:  \n",
    "\n",
    "- $ 2^x = 256 $  \n",
    "\n",
    "$ \\log_2{2^x} = \\log_2{2^8} \\Leftrightarrow $  \n",
    "$ x = 8 $\n",
    "___\n",
    "- $ 2^x = 300 $  \n",
    "\n",
    "$ \\log_2{2^x} = \\log_2{300} \\Leftrightarrow $  \n",
    "$ x = \\log_2{300} $\n",
    "___\n",
    "- $ \\log_8{2}^{8x-4} = 4 $  \n",
    "\n",
    "$ (8x-4)\\log_{2^3}{2}= 4 \\Leftrightarrow $  \n",
    "$\\frac{1}{3}(8x-4) = 4 \\Leftrightarrow $  \n",
    "$ x = 2 $\n",
    "___\n",
    "- $ 3^{\\log_9(5x-5)} = 5 $\n",
    "\n",
    "$ \\log_{3}{3^{\\log_9(5x-5)}} = \\log_{3}{5} \\Leftrightarrow $  \n",
    "$ \\log_{3^2}(5x-5) = \\log_3{5} \\Leftrightarrow $  \n",
    "$ \\frac{1}{2}(5x-5) = log_3{5} \\Leftrightarrow $  \n",
    "$ 5x-5 = 25 \\Leftrightarrow $  \n",
    "$ x = 6 $\n",
    "___\n",
    "- $ x^{\\log_3{x+1}} = 9 $  \n",
    "\n",
    "$ \\log_3{x^{\\log_3{x+1}}} = log_3{3^2} \\Leftrightarrow $  \n",
    "$ (\\log_3{x+1})(\\log_3{x}) = 2 \\Leftrightarrow $  \n",
    "$ (\\log_3{x})^2+\\log_3{x}-2=0 $  \n",
    "\n",
    "Введем переменную $t$  \n",
    "\n",
    "$ t = \\log_3x $  \n",
    "\n",
    "Тогда,\n",
    "\n",
    "$ t^2+t-2 = 0  $\n",
    "\n",
    "По теореме Виета,  \n",
    "\n",
    "$ \\begin{cases}\n",
    "x_1\\cdot x_2 = -2 \\\\\n",
    "x_1+x_2 = -1\n",
    "\\end{cases}$  \n",
    "\n",
    "$ x_1 = 1, x_2 = -2 $  \n",
    "\n",
    "Значит,  \n",
    "\n",
    "$\\begin{cases}\n",
    "\\log_3{x} = 1 \\Leftrightarrow x=3 \\\\\n",
    "\\log_3x = -2 \\Leftrightarrow x = \\frac{1}{9}\n",
    "\\end{cases}$"
   ]
  },
  {
   "cell_type": "markdown",
   "metadata": {},
   "source": [
    "4. Задание Свойства логарифмов. Вычислить:  \n",
    "\n",
    "- $ \\log_4{16} = \\log_4{4^2} = 2 $\n",
    "- $ \\log_5{\\frac{1}{25}} = \\log_5{5^{-2}} = -2 $\n",
    "- $ \\log_{25}{5} = \\log_{5^2}{5} = \\frac{1}{2} $\n",
    "- $ \\log_3{\\sqrt{27}} = \\log_3{3^{\\frac{3}{2}}} = \\frac{3}{2} $\n",
    "- $ \\log_2{12} - \\log_2{3} = \\log_2{\\frac{12}{3}} = 2 $\n",
    "- $ \\log_6{12} + \\log_6{3}= \\log_6{12\\cdot3} = 2 $\n",
    "- $ {e}^{\\ln5} = 5^{\\ln{e}} = 5 $\n",
    "- $ \\frac{\\log_2{225}}{\\log_2{15}} = \\log_{15}{225} = 2 $\n",
    "- $ \\log_4{32} + \\log_{0.1}{10} = \\log_{2^2}{2^5} + \\log_{10^{-1}}{10} = \\frac{5}{2}-\\frac{2}{2} = \\frac{3}{2}  $\n",
    "- $ 9^{\\log_3{\\sqrt{5}}} = \\sqrt{5}^{\\log_{3}{9}} = 5 $"
   ]
  }
 ],
 "metadata": {
  "kernelspec": {
   "display_name": "Python 3",
   "language": "python",
   "name": "python3"
  },
  "language_info": {
   "codemirror_mode": {
    "name": "ipython",
    "version": 3
   },
   "file_extension": ".py",
   "mimetype": "text/x-python",
   "name": "python",
   "nbconvert_exporter": "python",
   "pygments_lexer": "ipython3",
   "version": "3.8.5"
  },
  "varInspector": {
   "cols": {
    "lenName": 16,
    "lenType": 16,
    "lenVar": 40
   },
   "kernels_config": {
    "python": {
     "delete_cmd_postfix": "",
     "delete_cmd_prefix": "del ",
     "library": "var_list.py",
     "varRefreshCmd": "print(var_dic_list())"
    },
    "r": {
     "delete_cmd_postfix": ") ",
     "delete_cmd_prefix": "rm(",
     "library": "var_list.r",
     "varRefreshCmd": "cat(var_dic_list()) "
    }
   },
   "types_to_exclude": [
    "module",
    "function",
    "builtin_function_or_method",
    "instance",
    "_Feature"
   ],
   "window_display": false
  }
 },
 "nbformat": 4,
 "nbformat_minor": 4
}

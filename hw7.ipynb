{
 "cells": [
  {
   "cell_type": "code",
   "execution_count": 1,
   "metadata": {},
   "outputs": [],
   "source": [
    "import numpy as np\n",
    "import matplotlib.pyplot as plt\n",
    "%matplotlib inline"
   ]
  },
  {
   "cell_type": "markdown",
   "metadata": {},
   "source": [
    "1. Задание\n",
    "- Вектор – это частный случай матрицы 1хN и Nх1. Повторите материал для векторов, уделяя особое внимание умножению A∙B."
   ]
  },
  {
   "cell_type": "code",
   "execution_count": 41,
   "metadata": {},
   "outputs": [
    {
     "data": {
      "text/plain": [
       "(array([[1, 2, 3, 4, 5]]),\n",
       " array([[1],\n",
       "        [2],\n",
       "        [3],\n",
       "        [4],\n",
       "        [5]]),\n",
       " (1, 5),\n",
       " (5, 1))"
      ]
     },
     "execution_count": 41,
     "metadata": {},
     "output_type": "execute_result"
    }
   ],
   "source": [
    "a = np.arange(1, 6).reshape(1, 5)\n",
    "b = a.reshape(5,1)\n",
    "a, b, a.shape, b.shape"
   ]
  },
  {
   "cell_type": "code",
   "execution_count": 52,
   "metadata": {},
   "outputs": [
    {
     "data": {
      "text/plain": [
       "array([[ 2,  3,  4,  5,  6],\n",
       "       [ 3,  4,  5,  6,  7],\n",
       "       [ 4,  5,  6,  7,  8],\n",
       "       [ 5,  6,  7,  8,  9],\n",
       "       [ 6,  7,  8,  9, 10]])"
      ]
     },
     "execution_count": 52,
     "metadata": {},
     "output_type": "execute_result"
    }
   ],
   "source": [
    "a + b"
   ]
  },
  {
   "cell_type": "code",
   "execution_count": 46,
   "metadata": {},
   "outputs": [
    {
     "data": {
      "text/plain": [
       "(array([[ 2,  4,  6,  8, 10]]),\n",
       " array([[ 2],\n",
       "        [ 4],\n",
       "        [ 6],\n",
       "        [ 8],\n",
       "        [10]]))"
      ]
     },
     "execution_count": 46,
     "metadata": {},
     "output_type": "execute_result"
    }
   ],
   "source": [
    "a * 2, b * 2"
   ]
  },
  {
   "cell_type": "code",
   "execution_count": 43,
   "metadata": {},
   "outputs": [
    {
     "data": {
      "text/plain": [
       "array([[ 1,  2,  3,  4,  5],\n",
       "       [ 2,  4,  6,  8, 10],\n",
       "       [ 3,  6,  9, 12, 15],\n",
       "       [ 4,  8, 12, 16, 20],\n",
       "       [ 5, 10, 15, 20, 25]])"
      ]
     },
     "execution_count": 43,
     "metadata": {},
     "output_type": "execute_result"
    }
   ],
   "source": [
    "a * b"
   ]
  },
  {
   "cell_type": "code",
   "execution_count": 53,
   "metadata": {},
   "outputs": [
    {
     "data": {
      "text/plain": [
       "array([[55]])"
      ]
     },
     "execution_count": 53,
     "metadata": {},
     "output_type": "execute_result"
    }
   ],
   "source": [
    "a @ b"
   ]
  },
  {
   "cell_type": "code",
   "execution_count": 47,
   "metadata": {},
   "outputs": [
    {
     "data": {
      "text/plain": [
       "array([[ 0,  1,  2,  3,  4],\n",
       "       [-1,  0,  1,  2,  3],\n",
       "       [-2, -1,  0,  1,  2],\n",
       "       [-3, -2, -1,  0,  1],\n",
       "       [-4, -3, -2, -1,  0]])"
      ]
     },
     "execution_count": 47,
     "metadata": {},
     "output_type": "execute_result"
    }
   ],
   "source": [
    "a - b"
   ]
  },
  {
   "cell_type": "code",
   "execution_count": 56,
   "metadata": {},
   "outputs": [
    {
     "data": {
      "text/plain": [
       "(array([[1, 2, 3, 4, 5]]),\n",
       " array([[1],\n",
       "        [2],\n",
       "        [3],\n",
       "        [4],\n",
       "        [5]]))"
      ]
     },
     "execution_count": 56,
     "metadata": {},
     "output_type": "execute_result"
    }
   ],
   "source": [
    "a, a.T"
   ]
  },
  {
   "cell_type": "markdown",
   "metadata": {},
   "source": [
    "____"
   ]
  },
  {
   "cell_type": "markdown",
   "metadata": {},
   "source": [
    "- Вычислите, по возможности не используя программирование: $(5E)^{-1}$ где Е – единичная матрица размера 5х5."
   ]
  },
  {
   "cell_type": "markdown",
   "metadata": {},
   "source": [
    "$ (5E)^{-1} = \\frac{1}{5}E $  "
   ]
  },
  {
   "cell_type": "code",
   "execution_count": 13,
   "metadata": {},
   "outputs": [
    {
     "data": {
      "text/plain": [
       "array([[ 0.2,  0. ,  0. ,  0. ,  0. ],\n",
       "       [ 0. ,  0.2,  0. ,  0. ,  0. ],\n",
       "       [ 0. ,  0. ,  0.2,  0. ,  0. ],\n",
       "       [-0. , -0. , -0. ,  0.2, -0. ],\n",
       "       [ 0. ,  0. ,  0. ,  0. ,  0.2]])"
      ]
     },
     "execution_count": 13,
     "metadata": {},
     "output_type": "execute_result"
    }
   ],
   "source": [
    "A_5 = np.identity(5)*5\n",
    "np.linalg.inv(A_5)"
   ]
  },
  {
   "cell_type": "markdown",
   "metadata": {},
   "source": [
    "___"
   ]
  },
  {
   "cell_type": "markdown",
   "metadata": {},
   "source": [
    "2. Задание \n",
    "\n",
    "Вычислите определитель:  \n",
    "\n",
    "$$ A = \\left|\\begin{array}{ccc}\n",
    "1 & 2 & 3 \\\\\n",
    "4 & 0 & 6 \\\\\n",
    "7 & 8 & 9 \n",
    "\\end{array}\\right|$$  "
   ]
  },
  {
   "cell_type": "markdown",
   "metadata": {},
   "source": [
    "$ \\det A = 1 \\cdot \\left|\\begin{array}{cc}0 & 6 \\\\ 8 & 9 \\end{array}\\right| - 2 \\cdot \\left|\\begin{array}{cc} 4 & 6 \\\\ 7 & 9 \\end{array}\\right| + 3 \\cdot \\left|\\begin{array}{cc} 4 & 0 \\\\ 7 & 8 \\end{array}\\right| = -48-2 \\cdot (36-42)+3 \\cdot 32 = 60 $"
   ]
  },
  {
   "cell_type": "code",
   "execution_count": 27,
   "metadata": {},
   "outputs": [
    {
     "data": {
      "text/plain": [
       "59.999999999999986"
      ]
     },
     "execution_count": 27,
     "metadata": {},
     "output_type": "execute_result"
    }
   ],
   "source": [
    "A = np.array([[1, 2, 3],\n",
    "              [4, 0, 6],\n",
    "              [7, 8, 9]])\n",
    "np.linalg.det(A)"
   ]
  },
  {
   "cell_type": "markdown",
   "metadata": {},
   "source": [
    "___"
   ]
  },
  {
   "cell_type": "markdown",
   "metadata": {},
   "source": [
    "3. Задание \n",
    "\n",
    " Вычислите матрицу, обратную данной:  \n",
    " \n",
    "$$ A =  \\left|\\begin{array}{ccc}\n",
    "1 & 2 & 3 \\\\\n",
    "4 & 0 & 6 \\\\\n",
    "7 & 8 & 9 \n",
    "\\end{array}\\right|$$"
   ]
  },
  {
   "cell_type": "markdown",
   "metadata": {},
   "source": [
    "Обратную матрицу можно найти по формуле:  \n",
    "\n",
    "$$ A^{-1} = \\frac{1}{\\det{A}}\\cdot A_*^T $$  \n",
    "\n",
    "где  \n",
    "\n",
    "$ \\det{A} $ - определитель матрицы А  \n",
    "$ A_*^T $ - транспонированная матрица алгебраических дополнений матрицы А  \n",
    "\n",
    "Определитель матрицы мы нашли в предыдущем задании:  \n",
    "\n",
    "$\\det{A} = 60 $  \n",
    "\n",
    "Найдем матрицу миноров M:  \n",
    "\n",
    "Минор для элемента $a_{0,0} = \\left|\\begin{array}{cc}0 & 6 \\\\ 8 & 9 \\end{array}\\right| = -48 $  \n",
    "\n",
    "Аналогично для прочих элементов матрицы А  \n",
    "\n",
    "$ M =  \\left|\\begin{array}{ccc}\n",
    "-48 & -6 & 32 \\\\\n",
    "-6 & -12 & -6 \\\\\n",
    "12 & -6 & -8 \n",
    "\\end{array}\\right|$  \n",
    "\n",
    "Отсюда, матрица алгебраических дополнений будет выглядеть как  \n",
    "\n",
    "$ A_* =  \\left|\\begin{array}{ccc}\n",
    "-48 & 6 & 32 \\\\\n",
    "6 & -12 & 6 \\\\\n",
    "12 & 6 & -8 \n",
    "\\end{array}\\right|$  \n",
    "\n",
    "Транспонированная матрица алгебраических дополнений:  \n",
    "\n",
    "$ A_*^T =  \\left|\\begin{array}{ccc}\n",
    "-48 & 6 & 12 \\\\\n",
    "6 & -12 & 6 \\\\\n",
    "32 & 6 & -8 \n",
    "\\end{array}\\right|$  \n",
    "\n",
    "Следовательно,  \n",
    "\n",
    "$ A^{-1} =  \\frac{1}{60}\\cdot\\left|\\begin{array}{ccc}\n",
    "-48 & 6 & 12 \\\\\n",
    "6 & -12 & 6 \\\\\n",
    "32 & 6 & -8 \n",
    "\\end{array}\\right|$ "
   ]
  },
  {
   "cell_type": "markdown",
   "metadata": {},
   "source": [
    "Проверим вычисления с помощью функции библиотеки numpy"
   ]
  },
  {
   "cell_type": "code",
   "execution_count": 26,
   "metadata": {},
   "outputs": [
    {
     "data": {
      "text/plain": [
       "array([[-0.8       ,  0.1       ,  0.2       ],\n",
       "       [ 0.1       , -0.2       ,  0.1       ],\n",
       "       [ 0.53333333,  0.1       , -0.13333333]])"
      ]
     },
     "execution_count": 26,
     "metadata": {},
     "output_type": "execute_result"
    }
   ],
   "source": [
    "A_m = np.array([[-48, 6, 32],\n",
    "                [6, -12, 6],\n",
    "                [12, 6, -8]])\n",
    "A_m.T * 1/60"
   ]
  },
  {
   "cell_type": "code",
   "execution_count": 23,
   "metadata": {},
   "outputs": [
    {
     "data": {
      "text/plain": [
       "array([[-0.8       ,  0.1       ,  0.2       ],\n",
       "       [ 0.1       , -0.2       ,  0.1       ],\n",
       "       [ 0.53333333,  0.1       , -0.13333333]])"
      ]
     },
     "execution_count": 23,
     "metadata": {},
     "output_type": "execute_result"
    }
   ],
   "source": [
    "np.linalg.inv(A)"
   ]
  },
  {
   "cell_type": "markdown",
   "metadata": {},
   "source": [
    "___"
   ]
  },
  {
   "cell_type": "markdown",
   "metadata": {},
   "source": [
    "4. Задание \n",
    "\n",
    " Приведите пример матрицы 4х4, ранг которой равен 1."
   ]
  },
  {
   "cell_type": "markdown",
   "metadata": {},
   "source": [
    "5. Задание \n",
    "\n",
    "Вычислите скалярное произведение двух векторов:  \n",
    "(1, 5)  и  (2, 8)\n",
    "\n",
    "Пусть  \n",
    "\n",
    "У вектора $ \\overrightarrow{a} $ координаты (1, 5)  \n",
    "У вектора $ \\overrightarrow{b} $ координаты (2, 8)  \n",
    "\n",
    "Тогда, скалярное произведение  \n",
    "\n",
    "$\\overrightarrow{a}\\cdot\\overrightarrow{b} = 1 \\cdot 2+5 \\cdot 8 = 42$\n",
    "___"
   ]
  },
  {
   "cell_type": "markdown",
   "metadata": {},
   "source": [
    "6. Задание\n",
    "\n",
    "Вычислите смешанное произведение трех векторов:\n",
    "(1, 5, 0), (2, 8, 7) и (7, 1.5, 3) \n"
   ]
  },
  {
   "cell_type": "markdown",
   "metadata": {},
   "source": [
    "Вычислим смешанное произведение векторов как определитель матрицы, составленой из их координат  \n",
    "\n",
    "$$ A = \\left(\\begin{array}{ccc}\n",
    "1 & 5 & 0 \\\\\n",
    "2 & 8 & 7 \\\\\n",
    "7 & 1.5 & 3 \n",
    "\\end{array}\\right)$$  "
   ]
  },
  {
   "cell_type": "markdown",
   "metadata": {},
   "source": [
    "$ \\det A = 1 \\cdot \\left|\\begin{array}{cc}8 & 7 \\\\ 1.5 & 3 \\end{array}\\right| - 5 \\cdot \\left|\\begin{array}{cc}2 & 7 \\\\ 7 & 3 \\end{array}\\right| = 228.5 $"
   ]
  },
  {
   "cell_type": "code",
   "execution_count": 2,
   "metadata": {},
   "outputs": [
    {
     "data": {
      "text/plain": [
       "228.49999999999986"
      ]
     },
     "execution_count": 2,
     "metadata": {},
     "output_type": "execute_result"
    }
   ],
   "source": [
    "A = np.array([[1, 5, 0],\n",
    "              [2, 8, 7],\n",
    "              [7, 1.5, 3]])\n",
    "np.linalg.det(A)"
   ]
  }
 ],
 "metadata": {
  "kernelspec": {
   "display_name": "Python 3",
   "language": "python",
   "name": "python3"
  },
  "language_info": {
   "codemirror_mode": {
    "name": "ipython",
    "version": 3
   },
   "file_extension": ".py",
   "mimetype": "text/x-python",
   "name": "python",
   "nbconvert_exporter": "python",
   "pygments_lexer": "ipython3",
   "version": "3.8.5"
  },
  "varInspector": {
   "cols": {
    "lenName": 16,
    "lenType": 16,
    "lenVar": 40
   },
   "kernels_config": {
    "python": {
     "delete_cmd_postfix": "",
     "delete_cmd_prefix": "del ",
     "library": "var_list.py",
     "varRefreshCmd": "print(var_dic_list())"
    },
    "r": {
     "delete_cmd_postfix": ") ",
     "delete_cmd_prefix": "rm(",
     "library": "var_list.r",
     "varRefreshCmd": "cat(var_dic_list()) "
    }
   },
   "types_to_exclude": [
    "module",
    "function",
    "builtin_function_or_method",
    "instance",
    "_Feature"
   ],
   "window_display": false
  }
 },
 "nbformat": 4,
 "nbformat_minor": 4
}
